{
 "cells": [
  {
   "cell_type": "markdown",
   "id": "a650c829",
   "metadata": {},
   "source": [
    "# My Jupyter Notebook on IBM Watson Studio"
   ]
  },
  {
   "cell_type": "markdown",
   "id": "7933740b",
   "metadata": {},
   "source": [
    "**Lawrizy** <br>\n",
    "Project manager"
   ]
  },
  {
   "cell_type": "markdown",
   "id": "6474198f",
   "metadata": {},
   "source": [
    "*I am interested in data science because we live a time where we are overloaded with data, and I like to master the tools to extract information from this data.*"
   ]
  },
  {
   "cell_type": "markdown",
   "id": "18f3a549",
   "metadata": {},
   "source": [
    "### The code below should return the of 3 and 2"
   ]
  },
  {
   "cell_type": "code",
   "execution_count": 3,
   "id": "dee0de4f",
   "metadata": {},
   "outputs": [
    {
     "name": "stdout",
     "output_type": "stream",
     "text": [
      "5\n"
     ]
    }
   ],
   "source": [
    "print(3+2)"
   ]
  },
  {
   "cell_type": "markdown",
   "id": "d1939ed9",
   "metadata": {},
   "source": [
    "#### The line below contains a table:\n",
    "\n",
    "|Name|Surname|Weight|\n",
    "|------|------|------|\n",
    "|A     |B     |C     |\n",
    "|X     |Y     |Z     |\n",
    "\n",
    "\n",
    "#### The line below contains bullet points: \n",
    "\n",
    "- first bullet\n",
    "\n",
    "- second\n",
    "\n",
    "- third\n",
    "\n",
    "#### The line below contains code/syntax highlighting: \n",
    "\n",
    "```python\n",
    "a_string = \"Python is datascience friend\"\n",
    "print(a_string)\n",
    "```"
   ]
  }
 ],
 "metadata": {
  "kernelspec": {
   "display_name": "Python 3 (ipykernel)",
   "language": "python",
   "name": "python3"
  },
  "language_info": {
   "codemirror_mode": {
    "name": "ipython",
    "version": 3
   },
   "file_extension": ".py",
   "mimetype": "text/x-python",
   "name": "python",
   "nbconvert_exporter": "python",
   "pygments_lexer": "ipython3",
   "version": "3.9.7"
  }
 },
 "nbformat": 4,
 "nbformat_minor": 5
}
