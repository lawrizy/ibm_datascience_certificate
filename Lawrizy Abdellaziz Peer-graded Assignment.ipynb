{
 "cells": [
  {
   "cell_type": "markdown",
   "id": "4e0bf71a",
   "metadata": {},
   "source": [
    "# My Jupyter Notebook on IBM Watson Studio"
   ]
  },
  {
   "cell_type": "markdown",
   "id": "ae6a484c",
   "metadata": {},
   "source": [
    "**Lawrizy** <br>\n",
    "Project manager"
   ]
  },
  {
   "cell_type": "markdown",
   "id": "874cc2f0",
   "metadata": {},
   "source": [
    "*I am interested in data science because we live a time where we are overloaded with data, and I like to master the tools to extract information from this data.*"
   ]
  },
  {
   "cell_type": "markdown",
   "id": "645c2581",
   "metadata": {},
   "source": [
    "### The code below should return the of 3 and 2"
   ]
  },
  {
   "cell_type": "code",
   "execution_count": 3,
   "id": "8da7ef24",
   "metadata": {},
   "outputs": [
    {
     "name": "stdout",
     "output_type": "stream",
     "text": [
      "5\n"
     ]
    }
   ],
   "source": [
    "print(3+2)"
   ]
  },
  {
   "cell_type": "markdown",
   "id": "1fa8522f",
   "metadata": {},
   "source": [
    "#### The line below contains a table:\n",
    "<table>\n",
    "<thead>\n",
    "<tr><th>Name</th><th>Status</th><th>Weight</th></tr>\n",
    "</thead>\n",
    "<tbody>\n",
    "<tr><td>A</td><td>B</td><td>C</td></tr>\n",
    "<tr><td>X</td><td>Y</td><td>Z</td></tr>\n",
    "</tbody>\n",
    "</table>\n",
    "<br>\n",
    "\n",
    "#### The line below contains bullet points: \n",
    "\n",
    "- first bullet\n",
    "\n",
    "- second\n",
    "\n",
    "- third\n",
    "\n",
    "#### The line below contains code/syntax highlighting: \n",
    "\n",
    "```python\n",
    "a_string = \"Python is datascience friend\"\n",
    "print(a_string)\n",
    "```"
   ]
  }
 ],
 "metadata": {
  "kernelspec": {
   "display_name": "Python 3 (ipykernel)",
   "language": "python",
   "name": "python3"
  },
  "language_info": {
   "codemirror_mode": {
    "name": "ipython",
    "version": 3
   },
   "file_extension": ".py",
   "mimetype": "text/x-python",
   "name": "python",
   "nbconvert_exporter": "python",
   "pygments_lexer": "ipython3",
   "version": "3.9.7"
  }
 },
 "nbformat": 4,
 "nbformat_minor": 5
}
